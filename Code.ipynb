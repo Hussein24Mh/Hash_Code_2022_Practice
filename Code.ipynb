{
 "cells": [
  {
   "cell_type": "markdown",
   "id": "c47fe21e",
   "metadata": {},
   "source": [
    "# Google Hash Code 2022 practice problem solution (One Pizza)"
   ]
  },
  {
   "cell_type": "code",
   "execution_count": 64,
   "id": "3fda85e9",
   "metadata": {},
   "outputs": [],
   "source": [
    "import math\n",
    "import statistics\n",
    "import numpy as np\n",
    "import matplotlib.pyplot as plt\n",
    "#import seaborn as sns\n",
    "#sns.set()"
   ]
  },
  {
   "cell_type": "code",
   "execution_count": 65,
   "id": "bda998b6",
   "metadata": {},
   "outputs": [
    {
     "name": "stdout",
     "output_type": "stream",
     "text": [
      "18737\n"
     ]
    },
    {
     "data": {
      "text/plain": [
       "list"
      ]
     },
     "execution_count": 65,
     "metadata": {},
     "output_type": "execute_result"
    }
   ],
   "source": [
    "df1 = 'a_an_example.in.txt'\n",
    "df2 = 'b_basic.in.txt'\n",
    "df3 = 'c_coarse.in.txt'\n",
    "df4 = 'd_difficult.in.txt'\n",
    "df5 = 'e_elaborate.in.txt'\n",
    "\n",
    "with open(df4 , 'r')as myfile:\n",
    "    filelines = myfile.readlines()\n",
    "print(len(filelines))\n",
    "type(filelines)"
   ]
  },
  {
   "cell_type": "code",
   "execution_count": 66,
   "id": "bb6d2af3",
   "metadata": {},
   "outputs": [],
   "source": [
    "#int(filelines[0].strip())*2"
   ]
  },
  {
   "cell_type": "code",
   "execution_count": 67,
   "id": "d7066d82",
   "metadata": {},
   "outputs": [],
   "source": [
    "IngredientsLikes = {}\n",
    "IngredientsDislike = {}\n",
    "EveryoneLikes = []\n",
    "EveryoneDisLikes =[]\n",
    "\n",
    "#print(filelines[0])\n",
    "\n",
    "for i in range(1,int(filelines[0].strip())*2+1):\n",
    "    \n",
    "    LineToList = filelines[i].strip().split(' ')\n",
    "    \n",
    "    \n",
    "    if i%2 != 0:\n",
    "        EveryoneLikes.append(int(LineToList[0]))\n",
    "        for j in range(1,len(LineToList)):\n",
    "            IngredientsLikes[LineToList[j]] = IngredientsLikes.get(LineToList[j],0) +1\n",
    "            IngredientsDislike[LineToList[j]] = IngredientsDislike.get(LineToList[j],0) +0\n",
    "            \n",
    "            \n",
    "    elif i%2 == 0:\n",
    "        EveryoneDisLikes.append(int(LineToList[0]))\n",
    "        for j in range(1,len(LineToList)):\n",
    "            IngredientsDislike[LineToList[j]] = IngredientsDislike.get(LineToList[j],0) +1\n",
    "            IngredientsLikes[LineToList[j]] = IngredientsLikes.get(LineToList[j],0) +0"
   ]
  },
  {
   "cell_type": "markdown",
   "id": "1b977aed",
   "metadata": {},
   "source": [
    "# new implemeted code"
   ]
  },
  {
   "cell_type": "code",
   "execution_count": 68,
   "id": "d45d6644",
   "metadata": {},
   "outputs": [],
   "source": [
    "Likesinfo = list(IngredientsLikes.values())\n",
    "Dislikeinfo = list(IngredientsDislike.values())\n",
    "IngredientInfo = [[Likesinfo[j]-Dislikeinfo[j]*2,Likesinfo[j],Dislikeinfo[j]] for j in range(0,len(Likesinfo))]\n",
    "\n",
    "newIngredientInfo = sorted(IngredientInfo,key=lambda l:l[0] , reverse=True)\n",
    "#print(newIngredientInfo)"
   ]
  },
  {
   "cell_type": "code",
   "execution_count": 69,
   "id": "07b83bb6",
   "metadata": {},
   "outputs": [],
   "source": [
    "#print(IngredientsLikes)"
   ]
  },
  {
   "cell_type": "code",
   "execution_count": 70,
   "id": "cc56c6e2",
   "metadata": {},
   "outputs": [],
   "source": [
    "#print(IngredientsDislike)"
   ]
  },
  {
   "cell_type": "code",
   "execution_count": 71,
   "id": "93740867",
   "metadata": {},
   "outputs": [],
   "source": [
    "#print(EveryoneLikes)"
   ]
  },
  {
   "cell_type": "code",
   "execution_count": 72,
   "id": "7c046d58",
   "metadata": {},
   "outputs": [],
   "source": [
    "#print(EveryoneDisLikes)"
   ]
  },
  {
   "cell_type": "code",
   "execution_count": 73,
   "id": "bddb34e2",
   "metadata": {},
   "outputs": [
    {
     "name": "stdout",
     "output_type": "stream",
     "text": [
      "likesmean    = 1.7838385994876174\n",
      "likesmeadian = 2.0\n",
      "likesmood    = 1\n",
      "likevariace  = 0.8548385997611215\n",
      "likestd      = 0.924574821072433\n"
     ]
    }
   ],
   "source": [
    "likesmean = statistics.mean(EveryoneLikes)\n",
    "likesmeadian = statistics.median(EveryoneLikes)\n",
    "likesmood = statistics.mode(EveryoneLikes)\n",
    "likevariace = statistics.variance(EveryoneLikes)\n",
    "likestd = statistics.stdev(EveryoneLikes)\n",
    "print(f'likesmean    = {likesmean}')\n",
    "print(f'likesmeadian = {likesmeadian}')\n",
    "print(f'likesmood    = {likesmood}')\n",
    "print(f'likevariace  = {likevariace}')\n",
    "print(f'likestd      = {likestd}')"
   ]
  },
  {
   "cell_type": "code",
   "execution_count": 74,
   "id": "7630ed5a",
   "metadata": {},
   "outputs": [
    {
     "name": "stdout",
     "output_type": "stream",
     "text": [
      "Dislikesmean    = 1.6305508112724167\n",
      "Dislikesmeadian = 2.0\n",
      "Dislikesmood    = 1\n",
      "Dislikevariace  = 1.2315935046240882\n",
      "Dislikestd      = 1.1097718254776918\n"
     ]
    }
   ],
   "source": [
    "Dislikesmean = statistics.mean(EveryoneDisLikes)\n",
    "Dislikesmeadian = statistics.median(EveryoneDisLikes)\n",
    "Dislikesmood = statistics.mode(EveryoneDisLikes)\n",
    "Dislikevariace = statistics.variance(EveryoneDisLikes)\n",
    "Dislikestd = statistics.stdev(EveryoneDisLikes)\n",
    "print(f'Dislikesmean    = {Dislikesmean}')\n",
    "print(f'Dislikesmeadian = {Dislikesmeadian}')\n",
    "print(f'Dislikesmood    = {Dislikesmood}')\n",
    "print(f'Dislikevariace  = {Dislikevariace}')\n",
    "print(f'Dislikestd      = {Dislikestd}')"
   ]
  },
  {
   "cell_type": "code",
   "execution_count": 75,
   "id": "6746c83b",
   "metadata": {},
   "outputs": [
    {
     "data": {
      "image/png": "[encoded data removed]",
      "text/plain": [
       "<Figure size 432x288 with 1 Axes>"
      ]
     },
     "metadata": {
      "needs_background": "light"
     },
     "output_type": "display_data"
    }
   ],
   "source": [
    "xaxis = list(IngredientsLikes.values())\n",
    "yaxis = list(IngredientsDislike.values())\n",
    "\n",
    "\n",
    "plt.scatter(xaxis,yaxis)\n",
    "\n",
    "\n",
    "plt.show()"
   ]
  },
  {
   "cell_type": "markdown",
   "id": "d6d5832d",
   "metadata": {},
   "source": [
    "# plot new code"
   ]
  },
  {
   "cell_type": "code",
   "execution_count": 76,
   "id": "9862f583",
   "metadata": {},
   "outputs": [],
   "source": [
    "NewFirstXaxis = [newIngredientInfo[i][1] for i in range(0,len(newIngredientInfo))]\n",
    "NewSecondXaxis = [newIngredientInfo[i][2] for i in range(0,len(newIngredientInfo))]"
   ]
  },
  {
   "cell_type": "code",
   "execution_count": 77,
   "id": "1ba6ced9",
   "metadata": {},
   "outputs": [
    {
     "data": {
      "image/png": "[encoded data removed]",
      "text/plain": [
       "<Figure size 432x288 with 1 Axes>"
      ]
     },
     "metadata": {
      "needs_background": "light"
     },
     "output_type": "display_data"
    }
   ],
   "source": [
    "graphx = list(range(1,len(NewFirstXaxis)+1))\n",
    "plt.plot(graphx,NewFirstXaxis)\n",
    "plt.plot(graphx,NewSecondXaxis)\n",
    "plt.show()"
   ]
  },
  {
   "cell_type": "code",
   "execution_count": null,
   "id": "008797bf",
   "metadata": {},
   "outputs": [],
   "source": []
  },
  {
   "cell_type": "code",
   "execution_count": null,
   "id": "ebcb3a47",
   "metadata": {},
   "outputs": [],
   "source": []
  },
  {
   "cell_type": "code",
   "execution_count": null,
   "id": "3f8da4f1",
   "metadata": {},
   "outputs": [],
   "source": []
  },
  {
   "cell_type": "code",
   "execution_count": null,
   "id": "87e42dbf",
   "metadata": {},
   "outputs": [],
   "source": []
  },
  {
   "cell_type": "code",
   "execution_count": null,
   "id": "80b64ee8",
   "metadata": {},
   "outputs": [],
   "source": []
  },
  {
   "cell_type": "code",
   "execution_count": null,
   "id": "8e1c2323",
   "metadata": {},
   "outputs": [],
   "source": []
  },
  {
   "cell_type": "code",
   "execution_count": null,
   "id": "fbbe632b",
   "metadata": {},
   "outputs": [],
   "source": []
  },
  {
   "cell_type": "code",
   "execution_count": null,
   "id": "4e6f1296",
   "metadata": {},
   "outputs": [],
   "source": []
  },
  {
   "cell_type": "code",
   "execution_count": null,
   "id": "18b34cce",
   "metadata": {},
   "outputs": [],
   "source": []
  },
  {
   "cell_type": "code",
   "execution_count": null,
   "id": "f607c980",
   "metadata": {},
   "outputs": [],
   "source": []
  },
  {
   "cell_type": "code",
   "execution_count": null,
   "id": "959dc3e2",
   "metadata": {},
   "outputs": [],
   "source": []
  },
  {
   "cell_type": "code",
   "execution_count": null,
   "id": "69e2c813",
   "metadata": {},
   "outputs": [],
   "source": []
  },
  {
   "cell_type": "code",
   "execution_count": null,
   "id": "0b554613",
   "metadata": {},
   "outputs": [],
   "source": []
  },
  {
   "cell_type": "code",
   "execution_count": null,
   "id": "8e6eb4b4",
   "metadata": {},
   "outputs": [],
   "source": []
  },
  {
   "cell_type": "code",
   "execution_count": null,
   "id": "fb6f0d52",
   "metadata": {},
   "outputs": [],
   "source": []
  }
 ],
 "metadata": {
  "kernelspec": {
   "display_name": "Python 3",
   "language": "python",
   "name": "python3"
  },
  "language_info": {
   "codemirror_mode": {
    "name": "ipython",
    "version": 3
   },
   "file_extension": ".py",
   "mimetype": "text/x-python",
   "name": "python",
   "nbconvert_exporter": "python",
   "pygments_lexer": "ipython3",
   "version": "3.8.8"
  }
 },
 "nbformat": 4,
 "nbformat_minor": 5
}
