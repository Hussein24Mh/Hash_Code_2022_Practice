{
 "cells": [
  {
   "cell_type": "markdown",
   "id": "c47fe21e",
   "metadata": {},
   "source": [
    "# Google Hash Code 2022 practice problem solution (One Pizza)"
   ]
  },
  {
   "cell_type": "code",
   "execution_count": 107,
   "id": "3fda85e9",
   "metadata": {},
   "outputs": [],
   "source": [
    "import math\n",
    "import statistics\n",
    "import numpy as np\n",
    "import matplotlib.pyplot as plt\n",
    "#import seaborn as sns\n",
    "#sns.set()"
   ]
  },
  {
   "cell_type": "code",
   "execution_count": 140,
   "id": "bda998b6",
   "metadata": {},
   "outputs": [
    {
     "name": "stdout",
     "output_type": "stream",
     "text": [
      "18737\n"
     ]
    },
    {
     "data": {
      "text/plain": [
       "list"
      ]
     },
     "execution_count": 140,
     "metadata": {},
     "output_type": "execute_result"
    }
   ],
   "source": [
    "df1 = 'a_an_example.in.txt'\n",
    "df2 = 'b_basic.in.txt'\n",
    "df3 = 'c_coarse.in.txt'\n",
    "df4 = 'd_difficult.in.txt'\n",
    "df5 = 'e_elaborate.in.txt'\n",
    "\n",
    "with open(df4 , 'r')as myfile:\n",
    "    filelines = myfile.readlines()\n",
    "print(len(filelines))\n",
    "type(filelines)"
   ]
  },
  {
   "cell_type": "code",
   "execution_count": 141,
   "id": "bb6d2af3",
   "metadata": {},
   "outputs": [],
   "source": [
    "#int(filelines[0].strip())*2"
   ]
  },
  {
   "cell_type": "code",
   "execution_count": 142,
   "id": "d7066d82",
   "metadata": {},
   "outputs": [],
   "source": [
    "IngredientsLikes = {}\n",
    "IngredientsDislike = {}\n",
    "EveryoneLikes = []\n",
    "EveryoneDisLikes =[]\n",
    "\n",
    "#print(filelines[0])\n",
    "\n",
    "for i in range(1,int(filelines[0].strip())*2+1):\n",
    "    \n",
    "    LineToList = filelines[i].strip().split(' ')\n",
    "    \n",
    "    \n",
    "    if i%2 != 0:\n",
    "        EveryoneLikes.append(int(LineToList[0]))\n",
    "        for j in range(1,len(LineToList)):\n",
    "            IngredientsLikes[LineToList[j]] = IngredientsLikes.get(LineToList[j],0) +1\n",
    "            IngredientsDislike[LineToList[j]] = IngredientsDislike.get(LineToList[j],0) +0\n",
    "            \n",
    "            \n",
    "    elif i%2 == 0:\n",
    "        EveryoneDisLikes.append(int(LineToList[0]))\n",
    "        for j in range(1,len(LineToList)):\n",
    "            IngredientsDislike[LineToList[j]] = IngredientsDislike.get(LineToList[j],0) +1\n",
    "            IngredientsLikes[LineToList[j]] = IngredientsLikes.get(LineToList[j],0) +0"
   ]
  },
  {
   "cell_type": "code",
   "execution_count": 143,
   "id": "07b83bb6",
   "metadata": {},
   "outputs": [],
   "source": [
    "#print(IngredientsLikes)"
   ]
  },
  {
   "cell_type": "code",
   "execution_count": 144,
   "id": "cc56c6e2",
   "metadata": {},
   "outputs": [],
   "source": [
    "#print(IngredientsDislike)"
   ]
  },
  {
   "cell_type": "code",
   "execution_count": 145,
   "id": "93740867",
   "metadata": {},
   "outputs": [],
   "source": [
    "#print(EveryoneLikes)"
   ]
  },
  {
   "cell_type": "code",
   "execution_count": 146,
   "id": "7c046d58",
   "metadata": {},
   "outputs": [],
   "source": [
    "#print(EveryoneDisLikes)"
   ]
  },
  {
   "cell_type": "code",
   "execution_count": 147,
   "id": "bddb34e2",
   "metadata": {},
   "outputs": [
    {
     "name": "stdout",
     "output_type": "stream",
     "text": [
      "likesmean    = 1.7838385994876174\n",
      "likesmeadian = 2.0\n",
      "likesmood    = 1\n",
      "likevariace  = 0.8548385997611215\n",
      "likestd      = 0.924574821072433\n"
     ]
    }
   ],
   "source": [
    "likesmean = statistics.mean(EveryoneLikes)\n",
    "likesmeadian = statistics.median(EveryoneLikes)\n",
    "likesmood = statistics.mode(EveryoneLikes)\n",
    "likevariace = statistics.variance(EveryoneLikes)\n",
    "likestd = statistics.stdev(EveryoneLikes)\n",
    "print(f'likesmean    = {likesmean}')\n",
    "print(f'likesmeadian = {likesmeadian}')\n",
    "print(f'likesmood    = {likesmood}')\n",
    "print(f'likevariace  = {likevariace}')\n",
    "print(f'likestd      = {likestd}')"
   ]
  },
  {
   "cell_type": "code",
   "execution_count": 148,
   "id": "7630ed5a",
   "metadata": {},
   "outputs": [
    {
     "name": "stdout",
     "output_type": "stream",
     "text": [
      "Dislikesmean    = 1.6305508112724167\n",
      "Dislikesmeadian = 2.0\n",
      "Dislikesmood    = 1\n",
      "Dislikevariace  = 1.2315935046240882\n",
      "Dislikestd      = 1.1097718254776918\n"
     ]
    }
   ],
   "source": [
    "Dislikesmean = statistics.mean(EveryoneDisLikes)\n",
    "Dislikesmeadian = statistics.median(EveryoneDisLikes)\n",
    "Dislikesmood = statistics.mode(EveryoneDisLikes)\n",
    "Dislikevariace = statistics.variance(EveryoneDisLikes)\n",
    "Dislikestd = statistics.stdev(EveryoneDisLikes)\n",
    "print(f'Dislikesmean    = {Dislikesmean}')\n",
    "print(f'Dislikesmeadian = {Dislikesmeadian}')\n",
    "print(f'Dislikesmood    = {Dislikesmood}')\n",
    "print(f'Dislikevariace  = {Dislikevariace}')\n",
    "print(f'Dislikestd      = {Dislikestd}')"
   ]
  },
  {
   "cell_type": "code",
   "execution_count": 149,
   "id": "6746c83b",
   "metadata": {},
   "outputs": [
    {
     "data": {
      "image/png": "[encoded data removed]",
      "text/plain": [
       "<Figure size 432x288 with 1 Axes>"
      ]
     },
     "metadata": {},
     "output_type": "display_data"
    }
   ],
   "source": [
    "xaxis = list(IngredientsLikes.values())\n",
    "yaxis = list(IngredientsDislike.values())\n",
    "\n",
    "\n",
    "plt.scatter(xaxis,yaxis)\n",
    "\n",
    "\n",
    "plt.show()"
   ]
  },
  {
   "cell_type": "code",
   "execution_count": null,
   "id": "3922bcbc",
   "metadata": {},
   "outputs": [],
   "source": []
  }
 ],
 "metadata": {
  "kernelspec": {
   "display_name": "Python 3",
   "language": "python",
   "name": "python3"
  },
  "language_info": {
   "codemirror_mode": {
    "name": "ipython",
    "version": 3
   },
   "file_extension": ".py",
   "mimetype": "text/x-python",
   "name": "python",
   "nbconvert_exporter": "python",
   "pygments_lexer": "ipython3",
   "version": "3.8.8"
  }
 },
 "nbformat": 4,
 "nbformat_minor": 5
}
