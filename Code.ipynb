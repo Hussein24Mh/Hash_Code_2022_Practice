{
 "cells": [
  {
   "cell_type": "markdown",
   "id": "c47fe21e",
   "metadata": {},
   "source": [
    "# Google Hash Code 2022 practice problem solution (One Pizza)"
   ]
  },
  {
   "cell_type": "code",
   "execution_count": 1,
   "id": "3fda85e9",
   "metadata": {},
   "outputs": [],
   "source": [
    "import pdb"
   ]
  },
  {
   "cell_type": "code",
   "execution_count": 2,
   "id": "bda998b6",
   "metadata": {},
   "outputs": [],
   "source": [
    "df1 = 'a_an_example.in.txt'\n",
    "df2 = 'b_basic.in.txt'\n",
    "df3 = 'c_coarse.in.txt'\n",
    "df4 = 'd_difficult.in.txt'\n",
    "df5 = 'e_elaborate.in.txt'\n",
    "\n",
    "with open(df5 , 'r')as myfile:\n",
    "    Filelines = myfile.readlines()\n",
    "#print(len(filelines))\n",
    "#type(filelines)"
   ]
  },
  {
   "cell_type": "code",
   "execution_count": 3,
   "id": "d8d2f3b7",
   "metadata": {},
   "outputs": [],
   "source": [
    "CustomerLines = int(Filelines[0].strip())*2\n",
    "CustomerData = [Filelines[i].strip().split(' ') for i in range(1,CustomerLines+1)]\n"
   ]
  },
  {
   "cell_type": "markdown",
   "id": "2c87c07c",
   "metadata": {},
   "source": [
    "# |||||||||||||||||||||||||||||||||||||||||||||||||||||||||||||||||||||||||||||||||||||||||||||||||||"
   ]
  },
  {
   "cell_type": "code",
   "execution_count": 4,
   "id": "9f9b893c",
   "metadata": {},
   "outputs": [],
   "source": [
    "IngredientsLikes = {}\n",
    "IngredientsDislike = {}\n",
    "EveryoneLikes = []\n",
    "EveryoneDisLikes =[]\n",
    "\n",
    "#print(filelines[0])\n",
    "\n",
    "for i in range(1,int(Filelines[0].strip())*2+1):\n",
    "    \n",
    "    LineToList = Filelines[i].strip().split(' ')\n",
    "    \n",
    "    \n",
    "    if i%2 != 0:\n",
    "        EveryoneLikes.append(int(LineToList[0]))\n",
    "        for j in range(1,len(LineToList)):\n",
    "            IngredientsLikes[LineToList[j]] = IngredientsLikes.get(LineToList[j],0) +1\n",
    "            IngredientsDislike[LineToList[j]] = IngredientsDislike.get(LineToList[j],0) +0\n",
    "            \n",
    "            \n",
    "    elif i%2 == 0:\n",
    "        EveryoneDisLikes.append(int(LineToList[0]))\n",
    "        for j in range(1,len(LineToList)):\n",
    "            IngredientsDislike[LineToList[j]] = IngredientsDislike.get(LineToList[j],0) +1\n",
    "            IngredientsLikes[LineToList[j]] = IngredientsLikes.get(LineToList[j],0) +0\n",
    "\n",
    "\n",
    "\n",
    "ingredia = list(IngredientsLikes.keys())\n",
    "Likesinfo = list(IngredientsLikes.values())\n",
    "Dislikeinfo = list(IngredientsDislike.values())\n",
    "IngredientInfo = [[Likesinfo[j]-Dislikeinfo[j]*2,Likesinfo[j],Dislikeinfo[j],ingredia[j]] for j in range(0,len(Likesinfo))]\n",
    "\n",
    "newIngredientInfo = sorted(IngredientInfo,key=lambda l:l[0] , reverse=True)\n",
    "\n",
    "#ingrediapreferd = [IngredientInfo[i][3] for i in range(0,len(newIngredientInfo))]\n",
    "#print(newIngredientInfo)\n",
    "#print(ingrediapreferd)"
   ]
  },
  {
   "cell_type": "markdown",
   "id": "aa925871",
   "metadata": {},
   "source": [
    "# |||||||||||||||||||||||||||||||||||||||||||||||||||||||||||||||||||||||||||||||||||||||||||||||||||"
   ]
  },
  {
   "cell_type": "code",
   "execution_count": 5,
   "id": "cbacb793",
   "metadata": {},
   "outputs": [],
   "source": [
    "# print(CustomerLines)\n",
    "# CustomerData"
   ]
  },
  {
   "cell_type": "code",
   "execution_count": 6,
   "id": "a8b51472",
   "metadata": {},
   "outputs": [],
   "source": [
    "CurrentPizza = []\n",
    "Ingredients = []\n",
    "Outed = []\n",
    "#collect all ingreients on our list\n",
    "for i in range(0,CustomerLines,2):\n",
    "    for j in range(1,int(CustomerData[i][0])+1):\n",
    "        if CustomerData[i][j] not in Ingredients:\n",
    "            Ingredients.append(CustomerData[i][j])\n",
    "            \n",
    "# print(len(Ingredients))\n",
    "# print(Ingredients)"
   ]
  },
  {
   "cell_type": "code",
   "execution_count": 7,
   "id": "5ab6dcce",
   "metadata": {},
   "outputs": [],
   "source": [
    "# CurrentPizza"
   ]
  },
  {
   "cell_type": "code",
   "execution_count": null,
   "id": "1bad262c",
   "metadata": {},
   "outputs": [],
   "source": []
  },
  {
   "cell_type": "code",
   "execution_count": 8,
   "id": "4d560142",
   "metadata": {},
   "outputs": [],
   "source": [
    "def CheckScore(CurrentPizza):\n",
    "    CalculatedScore = 0\n",
    "    Outed = []\n",
    "    for i in range(0,CustomerLines,2):\n",
    "        #------------------------------------------------------\n",
    "        ThisCustomerWant = CustomerData[i][1:]\n",
    "        ThisCustomerDonotwant = CustomerData[i+1][1:]\n",
    "        #-------------------------------------------------------\n",
    "        Validation1 = [ThisCustomerWant[i]in CurrentPizza for i in range(0,len(ThisCustomerWant))]\n",
    "        \n",
    "        if ThisCustomerDonotwant:\n",
    "            Validation2 = all([ThisCustomerDonotwant[i] not in CurrentPizza for i in range(0,len(ThisCustomerDonotwant))])\n",
    "        else : Validation2 = True\n",
    "            \n",
    "        if all(Validation1) and Validation2:\n",
    "            CalculatedScore +=1\n",
    "            \n",
    "            for i in range(0,len(ThisCustomerDonotwant)):\n",
    "                if ThisCustomerDonotwant[i] not in Outed:\n",
    "                    Outed.append(ThisCustomerDonotwant[i])\n",
    "            \n",
    "    return CalculatedScore,Outed"
   ]
  },
  {
   "cell_type": "code",
   "execution_count": 9,
   "id": "1943cbbe",
   "metadata": {},
   "outputs": [],
   "source": [
    "# handscore, damy = CheckScore(CurrentPizza)"
   ]
  },
  {
   "cell_type": "code",
   "execution_count": 10,
   "id": "20e77b32",
   "metadata": {},
   "outputs": [],
   "source": [
    "# CurrentPizza"
   ]
  },
  {
   "cell_type": "code",
   "execution_count": 11,
   "id": "65b0c75a",
   "metadata": {},
   "outputs": [],
   "source": [
    "# handpiza = CurrentPizza"
   ]
  },
  {
   "cell_type": "code",
   "execution_count": 12,
   "id": "825f5d17",
   "metadata": {},
   "outputs": [],
   "source": [
    "# handpiza"
   ]
  },
  {
   "cell_type": "code",
   "execution_count": 13,
   "id": "afa6745b",
   "metadata": {},
   "outputs": [],
   "source": [
    "def FindBestNewPair():\n",
    "    global CurrentPizza\n",
    "    global Ingredients\n",
    "    global Outed\n",
    "    \n",
    "    handscore, damy = CheckScore(CurrentPizza)\n",
    "############################################################################\n",
    "    bestpizuntilenow = []\n",
    "    bestscoreuntilnow = handscore\n",
    "    \n",
    "    for i in range(0,len(Ingredients)):\n",
    "        handpizza = CurrentPizza[0:]\n",
    "        handpizza.append(Ingredients[i])\n",
    "        \n",
    "        calcscore , out = CheckScore(handpizza)\n",
    "        if calcscore > handscore:\n",
    "            \n",
    "            bestpizuntilenow = handpizza[0:]\n",
    "            bestscoreuntilnow = calcscore\n",
    "        handpizza.clear()\n",
    "############################################################################\n",
    "    if not bestpizuntilenow:\n",
    "        for i in range(0,len(newIngredientInfo)):\n",
    "            if newIngredientInfo[i][3] in Ingredients:\n",
    "                \n",
    "                handpizza = CurrentPizza[0:]\n",
    "                handpizza.append(newIngredientInfo[i][3])\n",
    "        \n",
    "                calcscore , out = CheckScore(handpizza)\n",
    "                if calcscore >= handscore:\n",
    "            \n",
    "                    bestpizuntilenow = handpizza[0:]\n",
    "                    bestscoreuntilnow = calcscore\n",
    "            \n",
    "                handpizza.clear()\n",
    "############################################################################          \n",
    "    dammy ,needtoremove = CheckScore(bestpizuntilenow)\n",
    "    CurrentPizza = bestpizuntilenow[0:]\n",
    "    \n",
    "    for i in range(0,len(needtoremove)):\n",
    "        if needtoremove[i] in Ingredients:\n",
    "            index = Ingredients.index(needtoremove[i])\n",
    "            Outed.append(Ingredients.pop(index))\n",
    "    for i in range(0,len(CurrentPizza)):\n",
    "        if CurrentPizza[i] in Ingredients:\n",
    "            Ingredients.remove(CurrentPizza[i])\n",
    "    "
   ]
  },
  {
   "cell_type": "code",
   "execution_count": 14,
   "id": "cf60ec6c",
   "metadata": {},
   "outputs": [],
   "source": [
    "# CurrentPizza"
   ]
  },
  {
   "cell_type": "code",
   "execution_count": 15,
   "id": "67952bd1",
   "metadata": {},
   "outputs": [],
   "source": [
    "# Ingredients"
   ]
  },
  {
   "cell_type": "code",
   "execution_count": 16,
   "id": "e65695b8",
   "metadata": {},
   "outputs": [],
   "source": [
    "# Outed"
   ]
  },
  {
   "cell_type": "code",
   "execution_count": null,
   "id": "b8993a6f",
   "metadata": {},
   "outputs": [],
   "source": [
    "while Ingredients:\n",
    "    #print('beforefun',CurrentPizza,'\\n',Ingredients,'\\n',Outed,'\\n\\n')\n",
    "    FindBestNewPair()\n",
    "    #print('after',CurrentPizza,'\\n',Ingredients,'\\n',Outed,'\\n\\n')\n",
    "    #print(\"--------------------------------------------------------\")"
   ]
  },
  {
   "cell_type": "code",
   "execution_count": null,
   "id": "8f7b2e41",
   "metadata": {},
   "outputs": [],
   "source": [
    "fileout = ''\n",
    "fileout = fileout + str((len(CurrentPizza)))\n",
    "for i in range(0,len(CurrentPizza)):\n",
    "    fileout = fileout +' '+ str(CurrentPizza[i])"
   ]
  },
  {
   "cell_type": "code",
   "execution_count": null,
   "id": "311916bb",
   "metadata": {},
   "outputs": [],
   "source": [
    "fileout"
   ]
  },
  {
   "cell_type": "code",
   "execution_count": null,
   "id": "90ed8fe3",
   "metadata": {},
   "outputs": [],
   "source": [
    "with open(\"Output E.txt\",'a')as myfile:\n",
    "    myfile.write(fileout)"
   ]
  },
  {
   "cell_type": "code",
   "execution_count": null,
   "id": "a2a3a8de",
   "metadata": {},
   "outputs": [],
   "source": [
    "gg,uu = CheckScore(CurrentPizza)"
   ]
  },
  {
   "cell_type": "code",
   "execution_count": null,
   "id": "91c42303",
   "metadata": {},
   "outputs": [],
   "source": [
    "gg"
   ]
  },
  {
   "cell_type": "code",
   "execution_count": null,
   "id": "2e770847",
   "metadata": {},
   "outputs": [],
   "source": []
  }
 ],
 "metadata": {
  "kernelspec": {
   "display_name": "Python 3",
   "language": "python",
   "name": "python3"
  },
  "language_info": {
   "codemirror_mode": {
    "name": "ipython",
    "version": 3
   },
   "file_extension": ".py",
   "mimetype": "text/x-python",
   "name": "python",
   "nbconvert_exporter": "python",
   "pygments_lexer": "ipython3",
   "version": "3.8.8"
  }
 },
 "nbformat": 4,
 "nbformat_minor": 5
}
