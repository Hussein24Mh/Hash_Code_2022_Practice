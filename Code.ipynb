{
 "cells": [
  {
   "cell_type": "markdown",
   "id": "c47fe21e",
   "metadata": {},
   "source": [
    "# Google Hash Code 2022 practice problem solution (One Pizza)"
   ]
  },
  {
   "cell_type": "code",
   "execution_count": 1,
   "id": "3fda85e9",
   "metadata": {},
   "outputs": [],
   "source": [
    "import math\n",
    "import statistics\n",
    "import numpy as np\n",
    "import matplotlib.pyplot as plt\n",
    "import seaborn as sns\n",
    "sns.set()"
   ]
  },
  {
   "cell_type": "code",
   "execution_count": 2,
   "id": "bda998b6",
   "metadata": {},
   "outputs": [],
   "source": [
    "df1 = 'a_an_example.in.txt'\n",
    "df2 = 'b_basic.in.txt'\n",
    "df3 = 'c_coarse.in.txt'\n",
    "df4 = 'd_difficult.in.txt'\n",
    "df5 = 'e_elaborate.in.txt'\n",
    "\n",
    "with open(df3 , 'r')as myfile:\n",
    "    Filelines = myfile.readlines()\n",
    "#print(len(filelines))\n",
    "#type(filelines)"
   ]
  },
  {
   "cell_type": "code",
   "execution_count": 3,
   "id": "d8d2f3b7",
   "metadata": {},
   "outputs": [],
   "source": [
    "CustomerLines = int(Filelines[0].strip())*2\n",
    "CustomerData = [Filelines[i].strip().split(' ') for i in range(1,CustomerLines+1)]"
   ]
  },
  {
   "cell_type": "code",
   "execution_count": 4,
   "id": "cbacb793",
   "metadata": {},
   "outputs": [
    {
     "name": "stdout",
     "output_type": "stream",
     "text": [
      "20\n"
     ]
    },
    {
     "data": {
      "text/plain": [
       "[['3', 'akuof', 'byyii', 'dlust'],\n",
       " ['1', 'xdozp'],\n",
       " ['3', 'dlust', 'luncl', 'qzfyo'],\n",
       " ['1', 'xdozp'],\n",
       " ['3', 'akuof', 'luncl', 'vxglq'],\n",
       " ['1', 'qzfyo'],\n",
       " ['3', 'dlust', 'vxglq', 'luncl'],\n",
       " ['0'],\n",
       " ['3', 'dlust', 'xveqd', 'tfeej'],\n",
       " ['0'],\n",
       " ['3', 'qzfyo', 'vxglq', 'luncl'],\n",
       " ['1', 'byyii'],\n",
       " ['3', 'luncl', 'xdozp', 'xveqd'],\n",
       " ['1', 'sunhp'],\n",
       " ['3', 'byyii', 'xdozp', 'tfeej'],\n",
       " ['1', 'qzfyo'],\n",
       " ['3', 'dlust', 'akuof', 'tfeej'],\n",
       " ['1', 'xveqd'],\n",
       " ['3', 'vxglq', 'dlust', 'byyii'],\n",
       " ['1', 'akuof']]"
      ]
     },
     "execution_count": 4,
     "metadata": {},
     "output_type": "execute_result"
    }
   ],
   "source": [
    "print(CustomerLines)\n",
    "CustomerData"
   ]
  },
  {
   "cell_type": "code",
   "execution_count": 5,
   "id": "a8b51472",
   "metadata": {},
   "outputs": [
    {
     "name": "stdout",
     "output_type": "stream",
     "text": [
      "9\n",
      "['akuof', 'byyii', 'dlust', 'luncl', 'qzfyo', 'vxglq', 'xveqd', 'tfeej', 'xdozp']\n"
     ]
    }
   ],
   "source": [
    "Ingredients = []\n",
    "\n",
    "for i in range(0,CustomerLines,2):\n",
    "    for j in range(1,int(CustomerData[i][0])+1):\n",
    "        if CustomerData[i][j] not in Ingredients:\n",
    "            Ingredients.append(CustomerData[i][j])\n",
    "            \n",
    "print(len(Ingredients))\n",
    "print(Ingredients)"
   ]
  },
  {
   "cell_type": "code",
   "execution_count": 59,
   "id": "4d560142",
   "metadata": {},
   "outputs": [],
   "source": [
    "def CheckScore(Wanted,Unlabeled,Out):\n",
    "    CalculatedScore = 0\n",
    "    for i in range(0,CustomerLines,2):\n",
    "        #------------------------------------------------------\n",
    "        ThisCustomerWant = CustomerData[i][1:]\n",
    "        if int(CustomerData[i+1][0]) >0:\n",
    "            ThisCustomerDonotwant = CustomerData[i+1][1:]\n",
    "        else:ThisCustomerDonotwant=[]\n",
    "        #print(f'ThisCustomerWant {ThisCustomerWant}')\n",
    "        #print(f'ThisCustomerDonotwant {ThisCustomerDonotwant}')\n",
    "        #-------------------------------------------------------\n",
    "        Validation = [ThisCustomerWant[i]in Wanted for i in range(0,len(ThisCustomerWant))]\n",
    "        if all(Validation):\n",
    "            CalculatedScore +=1\n",
    "    return CalculatedScore"
   ]
  },
  {
   "cell_type": "code",
   "execution_count": 60,
   "id": "55c78011",
   "metadata": {},
   "outputs": [],
   "source": [
    "Wanted = ['akuof', 'byyii', 'dlust']\n",
    "Unlabeled = ['byyii', 'dlust', 'luncl', 'qzfyo', 'vxglq', 'xveqd', 'tfeej', 'xdozp']\n",
    "Out = []"
   ]
  },
  {
   "cell_type": "code",
   "execution_count": 61,
   "id": "d7066d82",
   "metadata": {
    "scrolled": true
   },
   "outputs": [
    {
     "data": {
      "text/plain": [
       "1"
      ]
     },
     "execution_count": 61,
     "metadata": {},
     "output_type": "execute_result"
    }
   ],
   "source": [
    "CheckScore(Wanted,Unlabeled,Out)"
   ]
  },
  {
   "cell_type": "code",
   "execution_count": 62,
   "id": "69e2c813",
   "metadata": {},
   "outputs": [
    {
     "data": {
      "text/plain": [
       "['akuof', 'byyii', 'dlust']"
      ]
     },
     "execution_count": 62,
     "metadata": {},
     "output_type": "execute_result"
    }
   ],
   "source": [
    "CustomerData[0][1:]"
   ]
  },
  {
   "cell_type": "code",
   "execution_count": null,
   "id": "0b554613",
   "metadata": {},
   "outputs": [],
   "source": []
  },
  {
   "cell_type": "code",
   "execution_count": null,
   "id": "ac23624d",
   "metadata": {},
   "outputs": [],
   "source": []
  },
  {
   "cell_type": "code",
   "execution_count": null,
   "id": "8e6eb4b4",
   "metadata": {},
   "outputs": [],
   "source": []
  },
  {
   "cell_type": "code",
   "execution_count": null,
   "id": "fb6f0d52",
   "metadata": {},
   "outputs": [],
   "source": []
  },
  {
   "cell_type": "code",
   "execution_count": null,
   "id": "28dab633",
   "metadata": {},
   "outputs": [],
   "source": []
  }
 ],
 "metadata": {
  "kernelspec": {
   "display_name": "Python 3",
   "language": "python",
   "name": "python3"
  },
  "language_info": {
   "codemirror_mode": {
    "name": "ipython",
    "version": 3
   },
   "file_extension": ".py",
   "mimetype": "text/x-python",
   "name": "python",
   "nbconvert_exporter": "python",
   "pygments_lexer": "ipython3",
   "version": "3.8.8"
  }
 },
 "nbformat": 4,
 "nbformat_minor": 5
}
