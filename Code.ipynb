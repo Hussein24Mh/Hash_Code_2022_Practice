{
 "cells": [
  {
   "cell_type": "markdown",
   "id": "c47fe21e",
   "metadata": {},
   "source": [
    "# Google Hash Code 2022 practice problem solution (One Pizza)"
   ]
  },
  {
   "cell_type": "code",
   "execution_count": 65,
   "id": "3fda85e9",
   "metadata": {},
   "outputs": [],
   "source": [
    "import numpy as np\n",
    "import matplotlib.pyplot as plt"
   ]
  },
  {
   "cell_type": "code",
   "execution_count": 26,
   "id": "bda998b6",
   "metadata": {},
   "outputs": [
    {
     "name": "stdout",
     "output_type": "stream",
     "text": [
      "7\n"
     ]
    },
    {
     "data": {
      "text/plain": [
       "list"
      ]
     },
     "execution_count": 26,
     "metadata": {},
     "output_type": "execute_result"
    }
   ],
   "source": [
    "df1 = 'a_an_example.in.txt'\n",
    "df2 = 'b_basic.in.txt'\n",
    "df3 = 'c_coarse.in.txt'\n",
    "df4 = 'd_difficult.in.txt'\n",
    "df5 = 'e_elaborate.in.txt'\n",
    "\n",
    "with open(df1 , 'r')as myfile:\n",
    "    filelines = myfile.readlines()\n",
    "print(len(filelines))\n",
    "type(filelines)"
   ]
  },
  {
   "cell_type": "code",
   "execution_count": 58,
   "id": "bb6d2af3",
   "metadata": {},
   "outputs": [
    {
     "data": {
      "text/plain": [
       "6"
      ]
     },
     "execution_count": 58,
     "metadata": {},
     "output_type": "execute_result"
    }
   ],
   "source": [
    "int(filelines[0].strip())*2"
   ]
  },
  {
   "cell_type": "code",
   "execution_count": 59,
   "id": "d7066d82",
   "metadata": {},
   "outputs": [],
   "source": [
    "IngredientsLikes = {}\n",
    "IngredientsDislike = {}\n",
    "EveryoneLikes = []\n",
    "EveryoneDislikes =[]\n",
    "\n",
    "#print(filelines[0])\n",
    "\n",
    "for i in range(1,int(filelines[0].strip())*2+1):\n",
    "    \n",
    "    LineToList = filelines[i].strip().split(' ')\n",
    "    \n",
    "    \n",
    "    if i%2 != 0:\n",
    "        EveryoneLikes.append(LineToList[0])\n",
    "        for j in range(1,len(LineToList)):\n",
    "            IngredientsLikes[LineToList[j]] = IngredientsLikes.get(LineToList[j],0) +1\n",
    "            \n",
    "            \n",
    "    elif i%2 == 0:\n",
    "        EveryoneDislikes.append(LineToList[0])\n",
    "        for j in range(1,len(LineToList)):\n",
    "            IngredientsDislike[LineToList[j]] = IngredientsDislike.get(LineToList[j],0) +1"
   ]
  },
  {
   "cell_type": "code",
   "execution_count": 60,
   "id": "07b83bb6",
   "metadata": {},
   "outputs": [
    {
     "name": "stdout",
     "output_type": "stream",
     "text": [
      "{'cheese': 1, 'peppers': 1, 'basil': 1, 'mushrooms': 1, 'tomatoes': 1}\n"
     ]
    }
   ],
   "source": [
    "print(IngredientsLikes)"
   ]
  },
  {
   "cell_type": "code",
   "execution_count": 61,
   "id": "cc56c6e2",
   "metadata": {},
   "outputs": [
    {
     "name": "stdout",
     "output_type": "stream",
     "text": [
      "{'pineapple': 1, 'basil': 1}\n"
     ]
    }
   ],
   "source": [
    "print(IngredientsDislike)"
   ]
  },
  {
   "cell_type": "code",
   "execution_count": 62,
   "id": "93740867",
   "metadata": {},
   "outputs": [
    {
     "name": "stdout",
     "output_type": "stream",
     "text": [
      "['2', '1', '2']\n"
     ]
    }
   ],
   "source": [
    "print(EveryoneLikes)"
   ]
  },
  {
   "cell_type": "code",
   "execution_count": 63,
   "id": "7c046d58",
   "metadata": {},
   "outputs": [
    {
     "name": "stdout",
     "output_type": "stream",
     "text": [
      "['0', '1', '1']\n"
     ]
    }
   ],
   "source": [
    "print(EveryoneDislikes)"
   ]
  },
  {
   "cell_type": "code",
   "execution_count": null,
   "id": "bddb34e2",
   "metadata": {},
   "outputs": [],
   "source": []
  },
  {
   "cell_type": "code",
   "execution_count": null,
   "id": "7630ed5a",
   "metadata": {},
   "outputs": [],
   "source": []
  },
  {
   "cell_type": "code",
   "execution_count": null,
   "id": "6746c83b",
   "metadata": {},
   "outputs": [],
   "source": []
  }
 ],
 "metadata": {
  "kernelspec": {
   "display_name": "Python 3",
   "language": "python",
   "name": "python3"
  },
  "language_info": {
   "codemirror_mode": {
    "name": "ipython",
    "version": 3
   },
   "file_extension": ".py",
   "mimetype": "text/x-python",
   "name": "python",
   "nbconvert_exporter": "python",
   "pygments_lexer": "ipython3",
   "version": "3.8.8"
  }
 },
 "nbformat": 4,
 "nbformat_minor": 5
}
