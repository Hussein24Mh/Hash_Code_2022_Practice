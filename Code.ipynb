{
 "cells": [
  {
   "cell_type": "markdown",
   "id": "c47fe21e",
   "metadata": {},
   "source": [
    "# Google Hash Code 2022 practice problem solution (One Pizza)"
   ]
  },
  {
   "cell_type": "code",
   "execution_count": 1,
   "id": "3fda85e9",
   "metadata": {},
   "outputs": [],
   "source": [
    "import pdb"
   ]
  },
  {
   "cell_type": "code",
   "execution_count": 2,
   "id": "bda998b6",
   "metadata": {},
   "outputs": [],
   "source": [
    "df1 = 'a_an_example.in.txt'\n",
    "df2 = 'b_basic.in.txt'\n",
    "df3 = 'c_coarse.in.txt'\n",
    "df4 = 'd_difficult.in.txt'\n",
    "df5 = 'e_elaborate.in.txt'\n",
    "\n",
    "with open(df2 , 'r')as myfile:\n",
    "    Filelines = myfile.readlines()\n",
    "#print(len(filelines))\n",
    "#type(filelines)"
   ]
  },
  {
   "cell_type": "code",
   "execution_count": 3,
   "id": "d8d2f3b7",
   "metadata": {},
   "outputs": [],
   "source": [
    "CustomerLines = int(Filelines[0].strip())*2\n",
    "CustomerData = [Filelines[i].strip().split(' ') for i in range(1,CustomerLines+1)]"
   ]
  },
  {
   "cell_type": "code",
   "execution_count": 4,
   "id": "cbacb793",
   "metadata": {},
   "outputs": [
    {
     "name": "stdout",
     "output_type": "stream",
     "text": [
      "10\n"
     ]
    },
    {
     "data": {
      "text/plain": [
       "[['2', 'akuof', 'byyii'],\n",
       " ['0'],\n",
       " ['2', 'dlust', 'luncl'],\n",
       " ['0'],\n",
       " ['2', 'akuof', 'luncl'],\n",
       " ['0'],\n",
       " ['2', 'dlust', 'vxglq'],\n",
       " ['0'],\n",
       " ['2', 'dlust', 'xveqd'],\n",
       " ['0']]"
      ]
     },
     "execution_count": 4,
     "metadata": {},
     "output_type": "execute_result"
    }
   ],
   "source": [
    "print(CustomerLines)\n",
    "CustomerData"
   ]
  },
  {
   "cell_type": "code",
   "execution_count": 5,
   "id": "a8b51472",
   "metadata": {},
   "outputs": [
    {
     "name": "stdout",
     "output_type": "stream",
     "text": [
      "6\n",
      "['akuof', 'byyii', 'dlust', 'luncl', 'vxglq', 'xveqd']\n"
     ]
    }
   ],
   "source": [
    "CurrentPizza = []\n",
    "Ingredients = []\n",
    "Outed = []\n",
    "#collect all ingreients on our list\n",
    "for i in range(0,CustomerLines,2):\n",
    "    for j in range(1,int(CustomerData[i][0])+1):\n",
    "        if CustomerData[i][j] not in Ingredients:\n",
    "            Ingredients.append(CustomerData[i][j])\n",
    "            \n",
    "print(len(Ingredients))\n",
    "print(Ingredients)"
   ]
  },
  {
   "cell_type": "code",
   "execution_count": 6,
   "id": "4d560142",
   "metadata": {},
   "outputs": [],
   "source": [
    "def CheckScore(CurrentPizza):\n",
    "    CalculatedScore = 0\n",
    "    Outed = []\n",
    "    for i in range(0,CustomerLines,2):\n",
    "        #------------------------------------------------------\n",
    "        ThisCustomerWant = CustomerData[i][1:]\n",
    "        ThisCustomerDonotwant = CustomerData[i+1][1:]\n",
    "        #-------------------------------------------------------\n",
    "        Validation1 = [ThisCustomerWant[i]in CurrentPizza for i in range(0,len(ThisCustomerWant))]\n",
    "        \n",
    "        if ThisCustomerDonotwant:\n",
    "            Validation2 = all([ThisCustomerDonotwant[i] not in CurrentPizza for i in range(0,len(ThisCustomerDonotwant))])\n",
    "        else : Validation2 = True\n",
    "            \n",
    "        if all(Validation1) and Validation2:\n",
    "            CalculatedScore +=1\n",
    "            \n",
    "            for i in range(0,len(ThisCustomerDonotwant)):\n",
    "                if ThisCustomerDonotwant[i] not in Outed:\n",
    "                    Outed.append(ThisCustomerDonotwant[i])\n",
    "            \n",
    "    return CalculatedScore,Outed"
   ]
  },
  {
   "cell_type": "code",
   "execution_count": 7,
   "id": "afa6745b",
   "metadata": {},
   "outputs": [],
   "source": [
    "def FindBestNewPair(CurrentPizza,Ingredients,Outed):\n",
    "    #pdb.set_trace()\n",
    "    handpair = []\n",
    "    handscore = 0\n",
    "    handout = []\n",
    "    update = 0\n",
    "    \n",
    "    #print(handpair)\n",
    "    for i in range(0,len(Ingredients)):\n",
    "        h = CurrentPizza\n",
    "        h.append(Ingredients[i])\n",
    "        newpair = h\n",
    "        #print(f'h =  {h}')\n",
    "        calcscore , out = CheckScore(newpair)\n",
    "        if calcscore > handscore:\n",
    "            handscore = calcscore\n",
    "            handout = out\n",
    "            handpair = newpair\n",
    "            update = 1\n",
    "        h.clear()\n",
    "    \n",
    "    if update == 0:\n",
    "        \n",
    "    #=======================================\n",
    "    if update == 1:\n",
    "        for i in range(0,len(Ingredients)):\n",
    "            if Ingredients[i] in handout:\n",
    "                Ingredients.pop(i)\n",
    "                i -=1\n",
    "    "
   ]
  },
  {
   "cell_type": "code",
   "execution_count": 8,
   "id": "24afb608",
   "metadata": {},
   "outputs": [
    {
     "name": "stdout",
     "output_type": "stream",
     "text": [
      "[]\n",
      "h =  ['akuof']\n",
      "h =  ['byyii']\n",
      "h =  ['dlust']\n",
      "h =  ['luncl']\n",
      "h =  ['vxglq']\n",
      "h =  ['xveqd']\n",
      "[]\n"
     ]
    }
   ],
   "source": [
    "FindBestNewPair(CurrentPizza,Ingredients,Outed)"
   ]
  },
  {
   "cell_type": "code",
   "execution_count": null,
   "id": "6da031aa",
   "metadata": {},
   "outputs": [],
   "source": []
  }
 ],
 "metadata": {
  "kernelspec": {
   "display_name": "Python 3",
   "language": "python",
   "name": "python3"
  },
  "language_info": {
   "codemirror_mode": {
    "name": "ipython",
    "version": 3
   },
   "file_extension": ".py",
   "mimetype": "text/x-python",
   "name": "python",
   "nbconvert_exporter": "python",
   "pygments_lexer": "ipython3",
   "version": "3.8.8"
  }
 },
 "nbformat": 4,
 "nbformat_minor": 5
}
